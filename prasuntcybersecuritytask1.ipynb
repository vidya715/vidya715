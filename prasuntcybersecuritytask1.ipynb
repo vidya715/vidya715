{
  "nbformat": 4,
  "nbformat_minor": 0,
  "metadata": {
    "colab": {
      "provenance": [],
      "authorship_tag": "ABX9TyOv2F7b7UJtg0VFGnL68wd1",
      "include_colab_link": true
    },
    "kernelspec": {
      "name": "python3",
      "display_name": "Python 3"
    },
    "language_info": {
      "name": "python"
    }
  },
  "cells": [
    {
      "cell_type": "markdown",
      "metadata": {
        "id": "view-in-github",
        "colab_type": "text"
      },
      "source": [
        "<a href=\"https://colab.research.google.com/github/vidya715/vidya715/blob/main/prasuntcybersecuritytask1.ipynb\" target=\"_parent\"><img src=\"https://colab.research.google.com/assets/colab-badge.svg\" alt=\"Open In Colab\"/></a>"
      ]
    },
    {
      "cell_type": "code",
      "execution_count": 1,
      "metadata": {
        "colab": {
          "base_uri": "https://localhost:8080/"
        },
        "id": "J9Cr1juF33wT",
        "outputId": "1be8e66c-a981-4b5c-ba9b-2b032656d96e"
      },
      "outputs": [
        {
          "output_type": "stream",
          "name": "stdout",
          "text": [
            "Collecting keyboard\n",
            "  Downloading keyboard-0.13.5-py3-none-any.whl (58 kB)\n",
            "\u001b[?25l     \u001b[90m━━━━━━━━━━━━━━━━━━━━━━━━━━━━━━━━━━━━━━━━\u001b[0m \u001b[32m0.0/58.1 kB\u001b[0m \u001b[31m?\u001b[0m eta \u001b[36m-:--:--\u001b[0m\r\u001b[2K     \u001b[91m━━━━━━━━━━━━━━━━━━━━━━━━━━━━━━━━━━━\u001b[0m\u001b[90m╺\u001b[0m\u001b[90m━━━━\u001b[0m \u001b[32m51.2/58.1 kB\u001b[0m \u001b[31m2.2 MB/s\u001b[0m eta \u001b[36m0:00:01\u001b[0m\r\u001b[2K     \u001b[90m━━━━━━━━━━━━━━━━━━━━━━━━━━━━━━━━━━━━━━━━\u001b[0m \u001b[32m58.1/58.1 kB\u001b[0m \u001b[31m1.3 MB/s\u001b[0m eta \u001b[36m0:00:00\u001b[0m\n",
            "\u001b[?25hInstalling collected packages: keyboard\n",
            "Successfully installed keyboard-0.13.5\n"
          ]
        }
      ],
      "source": [
        "!pip install keyboard\n"
      ]
    },
    {
      "cell_type": "code",
      "source": [
        "import logging\n",
        "\n",
        "# Set up logging configuration\n",
        "log_file = 'keylog.txt'\n",
        "logging.basicConfig(filename=log_file, level=logging.INFO, format='%(asctime)s - %(message)s')\n",
        "\n",
        "# Function to handle key presses\n",
        "def keylogger():\n",
        "    print(\"Keylogger started. Press Enter to log each key. Press Ctrl+C to stop.\")\n",
        "    try:\n",
        "        while True:\n",
        "            key = input()\n",
        "            logging.info(key)\n",
        "    except KeyboardInterrupt:\n",
        "        print(\"\\nKeylogger stopped by user.\")\n",
        "\n",
        "# Run the keylogger\n",
        "if __name__ == '__main__':\n",
        "    keylogger()\n"
      ],
      "metadata": {
        "colab": {
          "base_uri": "https://localhost:8080/"
        },
        "id": "USVEYjec4tLB",
        "outputId": "151a7ad3-c22d-473d-c29f-8b2b45870189"
      },
      "execution_count": null,
      "outputs": [
        {
          "name": "stdout",
          "output_type": "stream",
          "text": [
            "Keylogger started. Press Enter to log each key. Press Ctrl+C to stop.\n",
            "wretr\n",
            "ruryrttsxxccx\n",
            "hrrueyrue\n",
            "fgfhgj\n"
          ]
        }
      ]
    }
  ]
}