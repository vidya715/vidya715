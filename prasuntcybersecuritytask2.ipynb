{
  "nbformat": 4,
  "nbformat_minor": 0,
  "metadata": {
    "colab": {
      "provenance": [],
      "authorship_tag": "ABX9TyPwumNzKpQELz0boUXvpRtu",
      "include_colab_link": true
    },
    "kernelspec": {
      "name": "python3",
      "display_name": "Python 3"
    },
    "language_info": {
      "name": "python"
    }
  },
  "cells": [
    {
      "cell_type": "markdown",
      "metadata": {
        "id": "view-in-github",
        "colab_type": "text"
      },
      "source": [
        "<a href=\"https://colab.research.google.com/github/vidya715/vidya715/blob/main/prasuntcybersecuritytask2.ipynb\" target=\"_parent\"><img src=\"https://colab.research.google.com/assets/colab-badge.svg\" alt=\"Open In Colab\"/></a>"
      ]
    },
    {
      "cell_type": "code",
      "execution_count": 1,
      "metadata": {
        "colab": {
          "base_uri": "https://localhost:8080/"
        },
        "id": "KifZ1qBIeUBX",
        "outputId": "713ed24b-adf6-4924-af91-cba283730a00"
      },
      "outputs": [
        {
          "output_type": "stream",
          "name": "stdout",
          "text": [
            "Unable to open image file: C:\\Users\\jagta\\OneDrive\\Pictures\\Screenshots\\Screenshot (1).png\n",
            "Unable to open encrypted image file: encrypted_image.png\n"
          ]
        }
      ],
      "source": [
        "from PIL import Image\n",
        "import numpy as np\n",
        "\n",
        "# Function to encrypt an image using XOR\n",
        "def encrypt_image(image_path, key):\n",
        "    try:\n",
        "        # Open the image file\n",
        "        img = Image.open(image_path)\n",
        "\n",
        "        # Convert the image to RGB (if not already in that mode)\n",
        "        img = img.convert('RGB')\n",
        "\n",
        "        # Get the pixel values as a NumPy array of shape (height, width, 3)\n",
        "        pixels = np.array(img)\n",
        "\n",
        "        # Perform XOR encryption on each pixel value\n",
        "        encrypted_pixels = pixels ^ key\n",
        "\n",
        "        # Create a new PIL Image from the encrypted pixel data\n",
        "        encrypted_image = Image.fromarray(encrypted_pixels.astype('uint8'), 'RGB')\n",
        "\n",
        "        # Save the encrypted image\n",
        "        encrypted_image.save('encrypted_image.png')\n",
        "\n",
        "        print(f'Image encrypted and saved as encrypted_image.png with key: {key}')\n",
        "\n",
        "    except IOError:\n",
        "        print(f\"Unable to open image file: {image_path}\")\n",
        "\n",
        "# Function to decrypt an image using XOR\n",
        "def decrypt_image(encrypted_image_path, key):\n",
        "    try:\n",
        "        # Open the encrypted image file\n",
        "        encrypted_img = Image.open(encrypted_image_path)\n",
        "\n",
        "        # Convert the image to RGB (if not already in that mode)\n",
        "        encrypted_img = encrypted_img.convert('RGB')\n",
        "\n",
        "        # Get the pixel values as a NumPy array of shape (height, width, 3)\n",
        "        encrypted_pixels = np.array(encrypted_img)\n",
        "\n",
        "        # Perform XOR decryption on each pixel value\n",
        "        decrypted_pixels = encrypted_pixels ^ key\n",
        "\n",
        "        # Create a new PIL Image from the decrypted pixel data\n",
        "        decrypted_image = Image.fromarray(decrypted_pixels.astype('uint8'), 'RGB')\n",
        "\n",
        "        # Save the decrypted image\n",
        "        decrypted_image.save('decrypted_image.png')\n",
        "\n",
        "        print(f'Image decrypted and saved as decrypted_image.png with key: {key}')\n",
        "\n",
        "    except IOError:\n",
        "        print(f\"Unable to open encrypted image file: {encrypted_image_path}\")\n",
        "\n",
        "# Example usage\n",
        "if __name__ == '__main__':\n",
        "    # Define a key for encryption (must be the same for encryption and decryption)\n",
        "    encryption_key = np.array([255, 128, 64])  # Example key\n",
        "\n",
        "    # Provide the image path directly in the script\n",
        "    image_path = r'C:\\Users\\jagta\\OneDrive\\Pictures\\Screenshots\\Screenshot (1).png'\n",
        "\n",
        "    # Encrypt the image\n",
        "    encrypt_image(image_path, encryption_key)\n",
        "\n",
        "    # Decrypt the encrypted image\n",
        "    decrypt_image('encrypted_image.png', encryption_key)\n"
      ]
    },
    {
      "cell_type": "code",
      "source": [
        "from PIL import Image\n",
        "import numpy as np\n",
        "\n",
        "# Function to encrypt an image using XOR\n",
        "def encrypt_image(image_path, key):\n",
        "    try:\n",
        "        # Open the image file\n",
        "        img = Image.open(image_path)\n",
        "\n",
        "        # Convert the image to RGB (if not already in that mode)\n",
        "        img = img.convert('RGB')\n",
        "\n",
        "        # Get the pixel values as a NumPy array of shape (height, width, 3)\n",
        "        pixels = np.array(img)\n",
        "\n",
        "        # Perform XOR encryption on each pixel value\n",
        "        encrypted_pixels = pixels ^ key\n",
        "\n",
        "        # Create a new PIL Image from the encrypted pixel data\n",
        "        encrypted_image = Image.fromarray(encrypted_pixels.astype('uint8'), 'RGB')\n",
        "\n",
        "        # Save the encrypted image\n",
        "        encrypted_image.save('encrypted_image.png')\n",
        "\n",
        "        print(f'Image encrypted and saved as encrypted_image.png with key: {key}')\n",
        "\n",
        "    except IOError:\n",
        "        print(f\"Unable to open image file: {image_path}\")\n",
        "\n",
        "# Function to decrypt an image using XOR\n",
        "def decrypt_image(encrypted_image_path, key):\n",
        "    try:\n",
        "        # Open the encrypted image file\n",
        "        encrypted_img = Image.open(encrypted_image_path)\n",
        "\n",
        "        # Convert the image to RGB (if not already in that mode)\n",
        "        encrypted_img = encrypted_img.convert('RGB')\n",
        "\n",
        "        # Get the pixel values as a NumPy array of shape (height, width, 3)\n",
        "        encrypted_pixels = np.array(encrypted_img)\n",
        "\n",
        "        # Perform XOR decryption on each pixel value\n",
        "        decrypted_pixels = encrypted_pixels ^ key\n",
        "\n",
        "        # Create a new PIL Image from the decrypted pixel data\n",
        "        decrypted_image = Image.fromarray(decrypted_pixels.astype('uint8'), 'RGB')\n",
        "\n",
        "        # Save the decrypted image\n",
        "        decrypted_image.save('decrypted_image.png')\n",
        "\n",
        "        print(f'Image decrypted and saved as decrypted_image.png with key: {key}')\n",
        "\n",
        "    except IOError:\n",
        "        print(f\"Unable to open encrypted image file: {encrypted_image_path}\")\n",
        "\n",
        "# Example usage\n",
        "if __name__ == '__main__':\n",
        "    # Define a key for encryption (must be the same for encryption and decryption)\n",
        "    encryption_key = np.array([255, 128, 64])  # Example key\n",
        "\n",
        "    # Provide the image path directly in the script\n",
        "    image_path = r'\"D:\\Downloads\\@Gathering 2K24\\@Gathering 2K24\\IMG_2860.jpeg\"'\n",
        "\n",
        "    # Encrypt the image\n",
        "    encrypt_image(image_path, encryption_key)\n",
        "\n",
        "    # Decrypt the encrypted image\n",
        "    decrypt_image('encrypted_image.png', encryption_key)\n"
      ],
      "metadata": {
        "colab": {
          "base_uri": "https://localhost:8080/"
        },
        "id": "87BCIrt6f1ev",
        "outputId": "e5aa61ef-af17-4489-e07b-5b4404a2bfc0"
      },
      "execution_count": 5,
      "outputs": [
        {
          "output_type": "stream",
          "name": "stdout",
          "text": [
            "Unable to open image file: \"D:\\Downloads\\@Gathering 2K24\\@Gathering 2K24\\IMG_2860.jpeg\"\n",
            "Unable to open encrypted image file: encrypted_image.png\n"
          ]
        }
      ]
    },
    {
      "cell_type": "code",
      "source": [
        "from PIL import Image\n",
        "import numpy as np\n",
        "\n",
        "# Function to encrypt an image using XOR\n",
        "def encrypt_image(image_path, key):\n",
        "    try:\n",
        "        # Open the image file\n",
        "        img = Image.open(image_path)\n",
        "\n",
        "        # Convert the image to RGB (if not already in that mode)\n",
        "        img = img.convert('RGB')\n",
        "\n",
        "        # Get the pixel values as a NumPy array of shape (height, width, 3)\n",
        "        pixels = np.array(img)\n",
        "\n",
        "        # Perform XOR encryption on each pixel value\n",
        "        encrypted_pixels = pixels ^ key\n",
        "\n",
        "        # Create a new PIL Image from the encrypted pixel data\n",
        "        encrypted_image = Image.fromarray(encrypted_pixels.astype('uint8'), 'RGB')\n",
        "\n",
        "        # Save the encrypted image\n",
        "        encrypted_image.save('encrypted_image.png')\n",
        "\n",
        "        print(f'Image encrypted and saved as encrypted_image.png with key: {key}')\n",
        "\n",
        "    except IOError:\n",
        "        print(f\"Unable to open image file: {image_path}\")\n",
        "\n",
        "# Function to decrypt an image using XOR\n",
        "def decrypt_image(encrypted_image_path, key):\n",
        "    try:\n",
        "        # Open the encrypted image file\n",
        "        encrypted_img = Image.open(encrypted_image_path)\n",
        "\n",
        "        # Convert the image to RGB (if not already in that mode)\n",
        "        encrypted_img = encrypted_img.convert('RGB')\n",
        "\n",
        "        # Get the pixel values as a NumPy array of shape (height, width, 3)\n",
        "        encrypted_pixels = np.array(encrypted_img)\n",
        "\n",
        "        # Perform XOR decryption on each pixel value\n",
        "        decrypted_pixels = encrypted_pixels ^ key\n",
        "\n",
        "        # Create a new PIL Image from the decrypted pixel data\n",
        "        decrypted_image = Image.fromarray(decrypted_pixels.astype('uint8'), 'RGB')\n",
        "\n",
        "        # Save the decrypted image\n",
        "        decrypted_image.save('decrypted_image.png')\n",
        "\n",
        "        print(f'Image decrypted and saved as decrypted_image.png with key: {key}')\n",
        "\n",
        "    except IOError:\n",
        "        print(f\"Unable to open encrypted image file: {encrypted_image_path}\")\n",
        "\n",
        "# Example usage\n",
        "if __name__ == '__main__':\n",
        "    # Define a key for encryption (must be the same for encryption and decryption)\n",
        "    encryption_key = np.array([255, 128, 64])  # Example key\n",
        "\n",
        "    # Provide the image path directly in the script\n",
        "    image_path = r'\"C:\\Users\\jagta\\OneDrive\\Pictures\\IMG_2860.jpeg\"'\n",
        "\n",
        "    # Encrypt the image\n",
        "    encrypt_image(image_path, encryption_key)\n",
        "\n",
        "    # Decrypt the encrypted image\n",
        "    decrypt_image('encrypted_image.png', encryption_key)\n"
      ],
      "metadata": {
        "colab": {
          "base_uri": "https://localhost:8080/"
        },
        "id": "sKSBhsh8iOzV",
        "outputId": "e595f422-6c0e-49ce-9984-f132f2be139f"
      },
      "execution_count": 7,
      "outputs": [
        {
          "output_type": "stream",
          "name": "stdout",
          "text": [
            "Unable to open image file: \"C:\\Users\\jagta\\OneDrive\\Pictures\\IMG_2860.jpeg\"\n",
            "Unable to open encrypted image file: encrypted_image.png\n"
          ]
        }
      ]
    }
  ]
}